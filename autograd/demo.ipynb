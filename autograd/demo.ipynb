{
 "cells": [
  {
   "cell_type": "code",
   "execution_count": 7,
   "id": "105bacea",
   "metadata": {},
   "outputs": [
    {
     "name": "stdout",
     "output_type": "stream",
     "text": [
      "(800, 3) (800, 1)\n"
     ]
    }
   ],
   "source": [
    "from tensor import Tensor\n",
    "from loss import MSELoss\n",
    "import nn\n",
    "import numpy as np\n",
    "from helper import unbroadcast\n",
    "import activations as act\n",
    "from visualization import draw_dot\n",
    "\n",
    "n = 1000\n",
    "# Create (100, 3) input dataset with values from a uniform distribution\n",
    "X_data = np.random.uniform(low=-10, high=10, size=(n, 3)).astype(np.float32)\n",
    "Y_data = (X_data[:, 0] + X_data[:, 1]*X_data[:, 2]).reshape(-1, 1)\n",
    "\n",
    "# Normalize data\n",
    "X_mean, X_std = X_data.mean(axis=0), X_data.std(axis=0)\n",
    "Y_mean, Y_std = Y_data.mean(),    Y_data.std()\n",
    "\n",
    "X_data = (X_data - X_mean) / X_std\n",
    "Y_data = (Y_data - Y_mean) / Y_std\n",
    "\n",
    "# Wrap with your Tensor class\n",
    "x_train = Tensor(X_data[:int(0.8*n)], requires_grad=False)\n",
    "y_train = Tensor(Y_data[:int(0.8*n)], requires_grad=False)\n",
    "\n",
    "x_test = Tensor(X_data[int(0.8*n):], requires_grad=False)\n",
    "y_test = Tensor(Y_data[int(0.8*n):], requires_grad=False)\n",
    "\n",
    "print(x_train.shape, y_train.shape)"
   ]
  },
  {
   "cell_type": "code",
   "execution_count": 8,
   "id": "4cde0cd5",
   "metadata": {},
   "outputs": [],
   "source": [
    "hidden_size_1 = 16\n",
    "model = nn.Sequential(\n",
    "    nn.Linear(3, hidden_size_1, requires_grad=True),  # first linear\n",
    "    nn.ReLU(),                                         # activation\n",
    "    nn.Linear(hidden_size_1, 1, requires_grad=True),\n",
    ")"
   ]
  },
  {
   "cell_type": "code",
   "execution_count": 13,
   "id": "cbde4f50",
   "metadata": {},
   "outputs": [
    {
     "name": "stdout",
     "output_type": "stream",
     "text": [
      "Epoch   50 | train=0.134763 | test=0.114759\n",
      "Epoch  100 | train=0.128887 | test=0.109293\n",
      "Epoch  150 | train=0.123443 | test=0.104255\n",
      "Epoch  200 | train=0.118408 | test=0.099634\n",
      "Epoch  250 | train=0.113728 | test=0.095390\n",
      "Epoch  300 | train=0.109396 | test=0.091456\n",
      "Epoch  350 | train=0.105400 | test=0.087840\n",
      "Epoch  400 | train=0.101714 | test=0.084534\n",
      "Epoch  450 | train=0.098309 | test=0.081507\n",
      "Epoch  500 | train=0.095129 | test=0.078717\n",
      "Epoch  550 | train=0.092169 | test=0.076148\n",
      "Epoch  600 | train=0.089401 | test=0.073776\n",
      "Epoch  650 | train=0.086824 | test=0.071585\n",
      "Epoch  700 | train=0.084433 | test=0.069570\n",
      "Epoch  750 | train=0.082206 | test=0.067713\n",
      "Epoch  800 | train=0.080130 | test=0.066000\n",
      "Epoch  850 | train=0.078191 | test=0.064416\n",
      "Epoch  900 | train=0.076381 | test=0.062950\n",
      "Epoch  950 | train=0.074691 | test=0.061593\n",
      "Epoch 1000 | train=0.073107 | test=0.060332\n",
      "Final test loss: 0.060331915\n"
     ]
    }
   ],
   "source": [
    "lr = 1e-3\n",
    "epochs = 1000\n",
    "\n",
    "for epoch in range(1, epochs+1):\n",
    "    model.zero_grad()\n",
    "\n",
    "    # forward\n",
    "    y_pred = model(x_train)\n",
    "    loss   = MSELoss(y_train, y_pred)\n",
    "    loss.backward()\n",
    "\n",
    "    # update\n",
    "    for p in model.parameters():\n",
    "        p.data -= lr * p.grad\n",
    "\n",
    "    if epoch % 50 == 0:\n",
    "        test_pred = model(x_test)\n",
    "        test_loss = MSELoss(y_test, test_pred)\n",
    "        print(f\"Epoch {epoch:4d} | train={loss.data:.6f} | test={test_loss.data:.6f}\")\n",
    "\n",
    "# final\n",
    "final_pred = model(x_test)\n",
    "print(\"Final test loss:\", MSELoss(y_test, final_pred).data)"
   ]
  },
  {
   "cell_type": "code",
   "execution_count": 14,
   "id": "44ac0aa8",
   "metadata": {},
   "outputs": [
    {
     "name": "stdout",
     "output_type": "stream",
     "text": [
      "Tensor(data=[[24.698574]])\n"
     ]
    }
   ],
   "source": [
    "a = Tensor([1.0, 3.0, 6.0], requires_grad=False)\n",
    "a.data = (a.data - X_mean) / X_std\n",
    "a = a.reshape(1, -1)  # reshape to match input shape\n",
    "out = model(a)\n",
    "out.data = out.data * Y_std + Y_mean  # denormalize output\n",
    "print(out)"
   ]
  }
 ],
 "metadata": {
  "kernelspec": {
   "display_name": "env",
   "language": "python",
   "name": "python3"
  },
  "language_info": {
   "codemirror_mode": {
    "name": "ipython",
    "version": 3
   },
   "file_extension": ".py",
   "mimetype": "text/x-python",
   "name": "python",
   "nbconvert_exporter": "python",
   "pygments_lexer": "ipython3",
   "version": "3.13.3"
  }
 },
 "nbformat": 4,
 "nbformat_minor": 5
}
